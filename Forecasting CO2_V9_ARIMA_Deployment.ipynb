{
 "cells": [
  {
   "cell_type": "code",
   "execution_count": 1,
   "id": "fd69e032",
   "metadata": {},
   "outputs": [],
   "source": [
    "import pandas as pd\n",
    "import pickle\n",
    "import numpy as np\n",
    "import matplotlib.pyplot as plt\n",
    "import seaborn as sns\n",
    "from datetime import datetime\n",
    "import statsmodels.api as sm\n",
    "from statsmodels.tsa.seasonal import seasonal_decompose\n",
    "from statsmodels.tsa.arima_model import ARIMA\n",
    "from statsmodels.tsa.holtwinters import ExponentialSmoothing \n",
    "import statsmodels.graphics.tsaplots as tsa_plots\n",
    "from sklearn.metrics import mean_squared_error\n",
    "from math import sqrt\n",
    "import warnings"
   ]
  },
  {
   "cell_type": "code",
   "execution_count": 2,
   "id": "62c8f3fd",
   "metadata": {},
   "outputs": [
    {
     "data": {
      "text/html": [
       "<div>\n",
       "<style scoped>\n",
       "    .dataframe tbody tr th:only-of-type {\n",
       "        vertical-align: middle;\n",
       "    }\n",
       "\n",
       "    .dataframe tbody tr th {\n",
       "        vertical-align: top;\n",
       "    }\n",
       "\n",
       "    .dataframe thead th {\n",
       "        text-align: right;\n",
       "    }\n",
       "</style>\n",
       "<table border=\"1\" class=\"dataframe\">\n",
       "  <thead>\n",
       "    <tr style=\"text-align: right;\">\n",
       "      <th></th>\n",
       "      <th>Year</th>\n",
       "      <th>CO2</th>\n",
       "    </tr>\n",
       "  </thead>\n",
       "  <tbody>\n",
       "    <tr>\n",
       "      <th>0</th>\n",
       "      <td>1800</td>\n",
       "      <td>0.00568</td>\n",
       "    </tr>\n",
       "    <tr>\n",
       "      <th>1</th>\n",
       "      <td>1801</td>\n",
       "      <td>0.00561</td>\n",
       "    </tr>\n",
       "    <tr>\n",
       "      <th>2</th>\n",
       "      <td>1802</td>\n",
       "      <td>0.00555</td>\n",
       "    </tr>\n",
       "    <tr>\n",
       "      <th>3</th>\n",
       "      <td>1803</td>\n",
       "      <td>0.00548</td>\n",
       "    </tr>\n",
       "    <tr>\n",
       "      <th>4</th>\n",
       "      <td>1804</td>\n",
       "      <td>0.00542</td>\n",
       "    </tr>\n",
       "  </tbody>\n",
       "</table>\n",
       "</div>"
      ],
      "text/plain": [
       "   Year      CO2\n",
       "0  1800  0.00568\n",
       "1  1801  0.00561\n",
       "2  1802  0.00555\n",
       "3  1803  0.00548\n",
       "4  1804  0.00542"
      ]
     },
     "execution_count": 2,
     "metadata": {},
     "output_type": "execute_result"
    }
   ],
   "source": [
    "warnings.filterwarnings(\"ignore\")\n",
    "co2data = pd.read_csv(\"co2dataset.csv\")\n",
    "co2data.head()"
   ]
  },
  {
   "cell_type": "code",
   "execution_count": 3,
   "id": "b5a5a379",
   "metadata": {},
   "outputs": [
    {
     "data": {
      "text/html": [
       "<div>\n",
       "<style scoped>\n",
       "    .dataframe tbody tr th:only-of-type {\n",
       "        vertical-align: middle;\n",
       "    }\n",
       "\n",
       "    .dataframe tbody tr th {\n",
       "        vertical-align: top;\n",
       "    }\n",
       "\n",
       "    .dataframe thead th {\n",
       "        text-align: right;\n",
       "    }\n",
       "</style>\n",
       "<table border=\"1\" class=\"dataframe\">\n",
       "  <thead>\n",
       "    <tr style=\"text-align: right;\">\n",
       "      <th></th>\n",
       "      <th>CO2</th>\n",
       "    </tr>\n",
       "    <tr>\n",
       "      <th>Year</th>\n",
       "      <th></th>\n",
       "    </tr>\n",
       "  </thead>\n",
       "  <tbody>\n",
       "    <tr>\n",
       "      <th>1800-01-01</th>\n",
       "      <td>0.00568</td>\n",
       "    </tr>\n",
       "    <tr>\n",
       "      <th>1801-01-01</th>\n",
       "      <td>0.00561</td>\n",
       "    </tr>\n",
       "    <tr>\n",
       "      <th>1802-01-01</th>\n",
       "      <td>0.00555</td>\n",
       "    </tr>\n",
       "    <tr>\n",
       "      <th>1803-01-01</th>\n",
       "      <td>0.00548</td>\n",
       "    </tr>\n",
       "    <tr>\n",
       "      <th>1804-01-01</th>\n",
       "      <td>0.00542</td>\n",
       "    </tr>\n",
       "  </tbody>\n",
       "</table>\n",
       "</div>"
      ],
      "text/plain": [
       "                CO2\n",
       "Year               \n",
       "1800-01-01  0.00568\n",
       "1801-01-01  0.00561\n",
       "1802-01-01  0.00555\n",
       "1803-01-01  0.00548\n",
       "1804-01-01  0.00542"
      ]
     },
     "execution_count": 3,
     "metadata": {},
     "output_type": "execute_result"
    }
   ],
   "source": [
    "# converting string data to datetime\n",
    "co2data['Year'] = pd.to_datetime(co2data['Year'],format='%Y', errors='ignore')\n",
    "co2data = co2data.set_index('Year')\n",
    "co2data.head()"
   ]
  },
  {
   "cell_type": "code",
   "execution_count": 4,
   "id": "2153c3a4",
   "metadata": {},
   "outputs": [
    {
     "data": {
      "text/html": [
       "<div>\n",
       "<style scoped>\n",
       "    .dataframe tbody tr th:only-of-type {\n",
       "        vertical-align: middle;\n",
       "    }\n",
       "\n",
       "    .dataframe tbody tr th {\n",
       "        vertical-align: top;\n",
       "    }\n",
       "\n",
       "    .dataframe thead th {\n",
       "        text-align: right;\n",
       "    }\n",
       "</style>\n",
       "<table border=\"1\" class=\"dataframe\">\n",
       "  <thead>\n",
       "    <tr style=\"text-align: right;\">\n",
       "      <th></th>\n",
       "      <th>CO2</th>\n",
       "    </tr>\n",
       "    <tr>\n",
       "      <th>Year</th>\n",
       "      <th></th>\n",
       "    </tr>\n",
       "  </thead>\n",
       "  <tbody>\n",
       "    <tr>\n",
       "      <th>1870-01-01</th>\n",
       "      <td>0.321</td>\n",
       "    </tr>\n",
       "    <tr>\n",
       "      <th>1871-01-01</th>\n",
       "      <td>0.461</td>\n",
       "    </tr>\n",
       "    <tr>\n",
       "      <th>1872-01-01</th>\n",
       "      <td>0.471</td>\n",
       "    </tr>\n",
       "    <tr>\n",
       "      <th>1873-01-01</th>\n",
       "      <td>0.406</td>\n",
       "    </tr>\n",
       "    <tr>\n",
       "      <th>1874-01-01</th>\n",
       "      <td>0.404</td>\n",
       "    </tr>\n",
       "    <tr>\n",
       "      <th>...</th>\n",
       "      <td>...</td>\n",
       "    </tr>\n",
       "    <tr>\n",
       "      <th>2010-01-01</th>\n",
       "      <td>15.600</td>\n",
       "    </tr>\n",
       "    <tr>\n",
       "      <th>2011-01-01</th>\n",
       "      <td>15.600</td>\n",
       "    </tr>\n",
       "    <tr>\n",
       "      <th>2012-01-01</th>\n",
       "      <td>14.800</td>\n",
       "    </tr>\n",
       "    <tr>\n",
       "      <th>2013-01-01</th>\n",
       "      <td>14.700</td>\n",
       "    </tr>\n",
       "    <tr>\n",
       "      <th>2014-01-01</th>\n",
       "      <td>15.100</td>\n",
       "    </tr>\n",
       "  </tbody>\n",
       "</table>\n",
       "<p>145 rows × 1 columns</p>\n",
       "</div>"
      ],
      "text/plain": [
       "               CO2\n",
       "Year              \n",
       "1870-01-01   0.321\n",
       "1871-01-01   0.461\n",
       "1872-01-01   0.471\n",
       "1873-01-01   0.406\n",
       "1874-01-01   0.404\n",
       "...            ...\n",
       "2010-01-01  15.600\n",
       "2011-01-01  15.600\n",
       "2012-01-01  14.800\n",
       "2013-01-01  14.700\n",
       "2014-01-01  15.100\n",
       "\n",
       "[145 rows x 1 columns]"
      ]
     },
     "execution_count": 4,
     "metadata": {},
     "output_type": "execute_result"
    }
   ],
   "source": [
    "co2data1 = co2data[70:]\n",
    "co2data1"
   ]
  },
  {
   "cell_type": "code",
   "execution_count": 5,
   "id": "50042f2e",
   "metadata": {},
   "outputs": [
    {
     "data": {
      "text/plain": [
       "<AxesSubplot:xlabel='Year', ylabel='CO2'>"
      ]
     },
     "execution_count": 5,
     "metadata": {},
     "output_type": "execute_result"
    },
    {
     "data": {
      "image/png": "[encoded data removed]",
      "text/plain": [
       "<Figure size 864x288 with 1 Axes>"
      ]
     },
     "metadata": {
      "needs_background": "light"
     },
     "output_type": "display_data"
    }
   ],
   "source": [
    "plt.figure(figsize=(12,4))\n",
    "sns.lineplot(x='Year', y= 'CO2', data = co2data1)"
   ]
  },
  {
   "cell_type": "code",
   "execution_count": null,
   "id": "4243e360",
   "metadata": {},
   "outputs": [],
   "source": []
  },
  {
   "cell_type": "code",
   "execution_count": 6,
   "id": "853def81",
   "metadata": {},
   "outputs": [
    {
     "name": "stdout",
     "output_type": "stream",
     "text": [
      "0.8774104584367124 0.05912177175834734\n"
     ]
    },
    {
     "data": {
      "text/plain": [
       "<AxesSubplot:xlabel='Year'>"
      ]
     },
     "execution_count": 6,
     "metadata": {},
     "output_type": "execute_result"
    },
    {
     "data": {
      "image/png": "[encoded data removed]",
      "text/plain": [
       "<Figure size 864x360 with 1 Axes>"
      ]
     },
     "metadata": {
      "needs_background": "light"
     },
     "output_type": "display_data"
    }
   ],
   "source": [
    "from statsmodels.tsa.arima.model import ARIMA\n",
    "#train = co2data1\n",
    "train = co2data1[:101]\n",
    "test = co2data1[101:]\n",
    "\n",
    "model_arima = ARIMA(train['CO2'],order=(17,1,15),enforce_stationarity= True,\n",
    "      enforce_invertibility=True)\n",
    "model= model_arima.fit()\n",
    "pred_start=test.index[0]\n",
    "pred_end = test.index[-1]\n",
    "pred = model.predict(start= pred_start,end=pred_end)\n",
    "pred_test_ARIMA = pred\n",
    "\n",
    "rmse = sqrt(mean_squared_error(test.values, pred.values))\n",
    "mape = np.mean(np.abs(test.values - pred.values)/np.abs(test.values))\n",
    "print(rmse, mape)\n",
    "co2data1['CO2'].plot(figsize=(12,5))\n",
    "pred.plot()\n",
    "\n"
   ]
  },
  {
   "cell_type": "code",
   "execution_count": 7,
   "id": "a2e4818e",
   "metadata": {},
   "outputs": [
    {
     "data": {
      "text/plain": [
       "<AxesSubplot:>"
      ]
     },
     "execution_count": 7,
     "metadata": {},
     "output_type": "execute_result"
    },
    {
     "data": {
      "image/png": "[encoded data removed]",
      "text/plain": [
       "<Figure size 864x288 with 1 Axes>"
      ]
     },
     "metadata": {
      "needs_background": "light"
     },
     "output_type": "display_data"
    }
   ],
   "source": [
    "#train = co2data1\n",
    "train = co2data1[:101]\n",
    "test = co2data1[101:]\n",
    "\n",
    "model_arima = ARIMA(co2data1['CO2'],order=(17,1,15),enforce_stationarity= True,\n",
    "      enforce_invertibility=True)\n",
    "model= model_arima.fit()\n",
    "\n",
    "df1 = co2data1\n",
    "from pandas.tseries.offsets import DateOffset\n",
    "future_dates=[df1.index[-1]+ DateOffset(years=x)for x in range(0,21)]\n",
    "future_datest_df=pd.DataFrame(index=future_dates[1:],columns=df1.columns)\n",
    "\n",
    "future_datest_df.tail()\n",
    "\n",
    "future_df_ARIMA=pd.concat([df1,future_datest_df])\n",
    "future_df_ARIMA['forecast_ARIMA']= model.predict(start = future_df_ARIMA.index[145], end = 165)\n",
    "\n",
    "future_df_ARIMA[['CO2', 'forecast_ARIMA']].plot(figsize=(12, 4))\n"
   ]
  },
  {
   "cell_type": "code",
   "execution_count": 8,
   "id": "1013066f",
   "metadata": {},
   "outputs": [],
   "source": [
    "import pickle \n",
    "pickle_out = open(\"arima_model.pkl\", mode = \"wb\") \n",
    "pickle.dump(model, pickle_out) \n",
    "pickle_out.close()"
   ]
  },
  {
   "cell_type": "code",
   "execution_count": null,
   "id": "3e738022",
   "metadata": {},
   "outputs": [],
   "source": []
  },
  {
   "cell_type": "code",
   "execution_count": null,
   "id": "0f97f16b",
   "metadata": {},
   "outputs": [],
   "source": []
  },
  {
   "cell_type": "code",
   "execution_count": null,
   "id": "4672be9b",
   "metadata": {},
   "outputs": [],
   "source": []
  }
 ],
 "metadata": {
  "kernelspec": {
   "display_name": "Python 3 (ipykernel)",
   "language": "python",
   "name": "python3"
  },
  "language_info": {
   "codemirror_mode": {
    "name": "ipython",
    "version": 3
   },
   "file_extension": ".py",
   "mimetype": "text/x-python",
   "name": "python",
   "nbconvert_exporter": "python",
   "pygments_lexer": "ipython3",
   "version": "3.10.9"
  }
 },
 "nbformat": 4,
 "nbformat_minor": 5
}
